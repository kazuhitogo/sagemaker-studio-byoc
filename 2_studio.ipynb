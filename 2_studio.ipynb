{
 "cells": [
  {
   "cell_type": "code",
   "execution_count": null,
   "id": "ee3ddd2c",
   "metadata": {},
   "outputs": [],
   "source": [
    "import yaml\n",
    "import sagemaker\n",
    "import boto3\n",
    "region = boto3.session.Session().region_name\n",
    "account = boto3.client('sts').get_caller_identity().get('Account')\n",
    "\n",
    "\n",
    "# 定数ファイル読み込み\n",
    "with open('constant_config.yml','rt') as f:\n",
    "    constant_config = yaml.safe_load(f)\n",
    "\n",
    "REPOSITORY_NAME = constant_config['REPOSITORY_NAME']\n",
    "IMAGE_NAME = constant_config['IMAGE_NAME']\n",
    "role = sagemaker.get_execution_role()\n",
    "image_uri = f'{account}.dkr.ecr.{region}.amazonaws.com/{REPOSITORY_NAME}:{IMAGE_NAME}'\n",
    "print(f'region: {region}')\n",
    "print(f'account : {account}')\n",
    "print(f'role : {role}')\n",
    "print(f'REPOSITORY_NAME : {REPOSITORY_NAME}')\n",
    "print(f'IMAGE_NAME : {IMAGE_NAME}')\n",
    "print(f'image_uri : {image_uri}')"
   ]
  },
  {
   "cell_type": "code",
   "execution_count": null,
   "id": "a6ce7b07",
   "metadata": {},
   "outputs": [],
   "source": [
    "%%writefile train.py\n",
    "print('hello world')"
   ]
  },
  {
   "cell_type": "code",
   "execution_count": null,
   "id": "9190b382",
   "metadata": {},
   "outputs": [],
   "source": [
    "estimator = sagemaker.estimator.Estimator(\n",
    "    image_uri = image_uri,\n",
    "    role = sagemaker.get_execution_role(),\n",
    "    entry_point='train.py',\n",
    "    instance_type = 'ml.m5.xlarge',\n",
    "    instance_count=1\n",
    ")\n",
    "estimator.fit()"
   ]
  }
 ],
 "metadata": {
  "kernelspec": {
   "display_name": "conda_python3",
   "language": "python",
   "name": "conda_python3"
  },
  "language_info": {
   "codemirror_mode": {
    "name": "ipython",
    "version": 3
   },
   "file_extension": ".py",
   "mimetype": "text/x-python",
   "name": "python",
   "nbconvert_exporter": "python",
   "pygments_lexer": "ipython3",
   "version": "3.10.8"
  }
 },
 "nbformat": 4,
 "nbformat_minor": 5
}
