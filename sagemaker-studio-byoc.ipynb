{
 "cells": [
  {
   "cell_type": "markdown",
   "id": "6f667b85",
   "metadata": {},
   "source": [
    "# SageMaker Studio Notebooks と SageMaker Training の環境を同一にする"
   ]
  },
  {
   "cell_type": "code",
   "execution_count": null,
   "id": "6b83d358",
   "metadata": {},
   "outputs": [],
   "source": [
    "import boto3\n",
    "import sagemaker\n",
    "from time import sleep\n",
    "region = boto3.session.Session().region_name\n",
    "account = boto3.client('sts').get_caller_identity().get('Account')\n",
    "ecr = boto3.client('ecr')\n",
    "sm_client = boto3.client('sagemaker')\n",
    "REPOSITORY_NAME = 'sagemaker-studio-custom'\n",
    "IMAGE_NAME = 'custom-py310-buster-training'\n",
    "KERNEL_NAME = 'python3'\n",
    "DISPLAY_NAME = 'Python 3'\n",
    "role = sagemaker.get_execution_role()\n",
    "print(region)\n",
    "print(account)\n",
    "print(role)"
   ]
  },
  {
   "cell_type": "code",
   "execution_count": null,
   "id": "3c24b928",
   "metadata": {
    "scrolled": true
   },
   "outputs": [],
   "source": [
    "!aws ecr delete-repository --repository-name {REPOSITORY_NAME} --force\n",
    "!aws ecr create-repository --repository-name {REPOSITORY_NAME}"
   ]
  },
  {
   "cell_type": "code",
   "execution_count": null,
   "id": "7b6ae007",
   "metadata": {},
   "outputs": [],
   "source": [
    "%%writefile requirements.txt\n",
    "ipykernel==6.20.1\n",
    "numpy==1.22.3\n",
    "sagemaker==2.144.0\n",
    "sagemaker-training==4.4.8"
   ]
  },
  {
   "cell_type": "code",
   "execution_count": null,
   "id": "321ecd49",
   "metadata": {},
   "outputs": [],
   "source": [
    "%%writefile Dockerfile\n",
    "FROM python:3.10.10-buster\n",
    "\n",
    "COPY requirements.txt /root/requirements.txt\n",
    "COPY Dockerfile /root/Dockerfile\n",
    "\n",
    "RUN pip install -r /root/requirements.txt && \\\n",
    "        python -m ipykernel install --sys-prefix"
   ]
  },
  {
   "cell_type": "code",
   "execution_count": null,
   "id": "66c06e4a",
   "metadata": {
    "scrolled": true
   },
   "outputs": [],
   "source": [
    "!docker build . -t {IMAGE_NAME} -t {account}.dkr.ecr.{region}.amazonaws.com/{REPOSITORY_NAME}:{IMAGE_NAME}"
   ]
  },
  {
   "cell_type": "code",
   "execution_count": null,
   "id": "ead26831",
   "metadata": {
    "scrolled": true
   },
   "outputs": [],
   "source": [
    "!$(aws ecr get-login --region {region} --registry-ids {account} --no-include-email)\n",
    "!docker push {account}.dkr.ecr.{region}.amazonaws.com/{REPOSITORY_NAME}:{IMAGE_NAME}"
   ]
  },
  {
   "cell_type": "code",
   "execution_count": null,
   "id": "4d7bec9b",
   "metadata": {},
   "outputs": [],
   "source": [
    "sm_client.delete_image(\n",
    "    ImageName=IMAGE_NAME,\n",
    ")"
   ]
  },
  {
   "cell_type": "code",
   "execution_count": null,
   "id": "559355a4",
   "metadata": {},
   "outputs": [],
   "source": [
    "sm_client.create_image(\n",
    "    ImageName=IMAGE_NAME,\n",
    "    RoleArn=role,\n",
    ")"
   ]
  },
  {
   "cell_type": "code",
   "execution_count": null,
   "id": "9172842c",
   "metadata": {},
   "outputs": [],
   "source": [
    "sleep(1)\n",
    "sm_client.create_image_version(\n",
    "    BaseImage=f'{account}.dkr.ecr.{region}.amazonaws.com/{REPOSITORY_NAME}:{IMAGE_NAME}',\n",
    "    ImageName=IMAGE_NAME,\n",
    ")"
   ]
  },
  {
   "cell_type": "code",
   "execution_count": null,
   "id": "13a7d370",
   "metadata": {},
   "outputs": [],
   "source": [
    "# check\n",
    "sm_client.describe_image_version(\n",
    "    ImageName=IMAGE_NAME\n",
    ")"
   ]
  },
  {
   "cell_type": "code",
   "execution_count": null,
   "id": "76514e8b",
   "metadata": {},
   "outputs": [],
   "source": [
    "output = !docker run {account}.dkr.ecr.{region}.amazonaws.com/{REPOSITORY_NAME}:{IMAGE_NAME} id -u\n",
    "default_uid = int(output[0])\n",
    "output = !docker run {account}.dkr.ecr.{region}.amazonaws.com/{REPOSITORY_NAME}:{IMAGE_NAME} id -g\n",
    "default_gid = int(output[0])\n",
    "print(default_uid, default_gid)"
   ]
  },
  {
   "cell_type": "code",
   "execution_count": null,
   "id": "f909cd0c",
   "metadata": {},
   "outputs": [],
   "source": [
    "sm_client.create_app_image_config(\n",
    "    AppImageConfigName=IMAGE_NAME,\n",
    "    KernelGatewayImageConfig={\n",
    "        'KernelSpecs': [\n",
    "            {\n",
    "                'Name': KERNEL_NAME,\n",
    "                'DisplayName': DISPLAY_NAME\n",
    "            },\n",
    "        ],\n",
    "        'FileSystemConfig': {\n",
    "            'MountPath': '/root/data',\n",
    "            'DefaultUid': default_uid,\n",
    "            'DefaultGid': default_gid\n",
    "        }\n",
    "    }\n",
    ")"
   ]
  },
  {
   "cell_type": "code",
   "execution_count": null,
   "id": "25307bf8",
   "metadata": {},
   "outputs": [],
   "source": [
    "# 例えば\n",
    "domain_id = sm_client.list_domains()['Domains'][0]['DomainId']"
   ]
  },
  {
   "cell_type": "code",
   "execution_count": null,
   "id": "4f85dd4c",
   "metadata": {},
   "outputs": [],
   "source": [
    "sm_client.update_domain(\n",
    "    DomainId = domain_id,\n",
    "    DefaultUserSettings = {\n",
    "        'KernelGatewayAppSettings' : {\n",
    "            'CustomImages' : [\n",
    "                {\n",
    "                    'ImageName' : IMAGE_NAME,\n",
    "                    'AppImageConfigName' : IMAGE_NAME\n",
    "                }\n",
    "            ]\n",
    "        }\n",
    "    }\n",
    ")"
   ]
  },
  {
   "cell_type": "code",
   "execution_count": null,
   "id": "4a01c27a",
   "metadata": {
    "scrolled": true
   },
   "outputs": [],
   "source": [
    "sm_client.describe_domain(\n",
    "    DomainId = domain_id\n",
    ")"
   ]
  },
  {
   "cell_type": "code",
   "execution_count": null,
   "id": "02ce87d3",
   "metadata": {},
   "outputs": [],
   "source": []
  },
  {
   "cell_type": "code",
   "execution_count": null,
   "id": "39424f94",
   "metadata": {},
   "outputs": [],
   "source": []
  }
 ],
 "metadata": {
  "kernelspec": {
   "display_name": "conda_python3",
   "language": "python",
   "name": "conda_python3"
  },
  "language_info": {
   "codemirror_mode": {
    "name": "ipython",
    "version": 3
   },
   "file_extension": ".py",
   "mimetype": "text/x-python",
   "name": "python",
   "nbconvert_exporter": "python",
   "pygments_lexer": "ipython3",
   "version": "3.10.8"
  }
 },
 "nbformat": 4,
 "nbformat_minor": 5
}
